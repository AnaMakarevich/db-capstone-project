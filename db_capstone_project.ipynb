{
 "cells": [
  {
   "cell_type": "markdown",
   "id": "b21571c7-7ad5-49de-9294-ada2e95efee8",
   "metadata": {},
   "source": [
    "# DB Clients"
   ]
  },
  {
   "cell_type": "markdown",
   "id": "ba18822a-4e76-427d-9d76-6f5f3275fcd4",
   "metadata": {},
   "source": [
    "## Setup"
   ]
  },
  {
   "cell_type": "code",
   "execution_count": 1,
   "id": "1513d8be",
   "metadata": {},
   "outputs": [
    {
     "name": "stdout",
     "output_type": "stream",
     "text": [
      "Requirement already satisfied: mysql-connector-python in c:\\users\\ana\\appdata\\local\\packages\\pythonsoftwarefoundation.python.3.10_qbz5n2kfra8p0\\localcache\\local-packages\\python310\\site-packages (9.0.0)\n"
     ]
    }
   ],
   "source": [
    "#install connector api using the command below.\n",
    "!pip install mysql-connector-python"
   ]
  },
  {
   "cell_type": "code",
   "execution_count": 3,
   "id": "e5994424",
   "metadata": {},
   "outputs": [],
   "source": [
    "# Import MySQL Connector/Python \n",
    "import mysql.connector as connector\n",
    "\n",
    "# connect and create cursor to test that everything works as expected\n",
    "connection=connector.connect(user=\"lemon_admin\",password=\"\", db='little_lemon_db')\n",
    "cursor = connection.cursor()"
   ]
  },
  {
   "cell_type": "markdown",
   "id": "354b2773-dc0f-4ef5-a268-436b79346a92",
   "metadata": {},
   "source": [
    "## Show all tables in the database"
   ]
  },
  {
   "cell_type": "code",
   "execution_count": 7,
   "id": "39d9bb33",
   "metadata": {},
   "outputs": [
    {
     "name": "stdout",
     "output_type": "stream",
     "text": [
      "('bookings',)\n",
      "('customers',)\n",
      "('delivery',)\n",
      "('menuitems',)\n",
      "('menus',)\n",
      "('orders',)\n",
      "('orders_view',)\n",
      "('staff',)\n"
     ]
    }
   ],
   "source": [
    "show_tables_query = \"\"\"SHOW TABLES\"\"\"\n",
    "cursor.execute(show_tables_query)\n",
    "results = cursor.fetchall()\n",
    "for table in results: \n",
    "    print(table)"
   ]
  },
  {
   "cell_type": "markdown",
   "id": "5149d238-2178-4510-9161-979a53bf5470",
   "metadata": {},
   "source": [
    "## Query with table JOIN "
   ]
  },
  {
   "cell_type": "code",
   "execution_count": 21,
   "id": "4dccb2d9-2258-44ad-a401-3a3d4169a482",
   "metadata": {},
   "outputs": [
    {
     "name": "stdout",
     "output_type": "stream",
     "text": [
      "CustomerName                  ContactDetails                BillAmount                    \n",
      "------------------------------------------------------------------------------------------\n",
      "Anna Iversen                  anna.iversen@gmail.com        86                            \n",
      "Joakim Iversen                joakim.iversen@gmail.com      220                           \n",
      "Marcos Romero                 marcos.in.boots@gmail.com     230                           \n"
     ]
    }
   ],
   "source": [
    "join_query = \"\"\"\n",
    "SELECT \n",
    "    CONCAT(c.FirstName, ' ', c.LastName) as CustomerName,\n",
    "    c.Email as ContactDetails, \n",
    "    o.TotalCost AS BillAmount\n",
    "FROM Customers c\n",
    "INNER JOIN Bookings b \n",
    "ON c.CustomerID = b.CustomerID \n",
    "INNER JOIN Orders o\n",
    "ON o.BookingID = b.BookingID\n",
    "WHERE TotalCost > 60\n",
    "\"\"\"\n",
    "cursor.execute(join_query)\n",
    "results = cursor.fetchall()\n",
    "column_names = cursor.column_names\n",
    "header = \"\"\n",
    "for col in column_names:         \n",
    "    header += str(col).ljust(30)\n",
    "print(header)\n",
    "print(90*'-')\n",
    "for row in results: \n",
    "    formatted_row = \"\"\n",
    "    for value in row: \n",
    "        str_value = str(value)\n",
    "        formatted_row += str_value.ljust(30)\n",
    "    print(formatted_row)"
   ]
  },
  {
   "cell_type": "code",
   "execution_count": null,
   "id": "cebc4ff4-1e04-42c2-8e6b-b9538584900f",
   "metadata": {},
   "outputs": [],
   "source": []
  }
 ],
 "metadata": {
  "kernelspec": {
   "display_name": "Python 3 (ipykernel)",
   "language": "python",
   "name": "python3"
  },
  "language_info": {
   "codemirror_mode": {
    "name": "ipython",
    "version": 3
   },
   "file_extension": ".py",
   "mimetype": "text/x-python",
   "name": "python",
   "nbconvert_exporter": "python",
   "pygments_lexer": "ipython3",
   "version": "3.10.11"
  }
 },
 "nbformat": 4,
 "nbformat_minor": 5
}
